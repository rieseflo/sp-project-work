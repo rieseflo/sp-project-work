{
 "cells": [
  {
   "attachments": {},
   "cell_type": "markdown",
   "metadata": {},
   "source": [
    "# Scientific Programming - Project Work "
   ]
  },
  {
   "attachments": {},
   "cell_type": "markdown",
   "metadata": {},
   "source": [
    "## Test 1"
   ]
  },
  {
   "attachments": {},
   "cell_type": "markdown",
   "metadata": {},
   "source": [
    "## Table of Contents\n",
    "* [1. Libraries and Settings](#1-bullet)\n",
    "* [2. Data collection](#2-bullet)\n",
    "* [3. Data preprocessing](#3-bullet)\n",
    "* [4. EDA (data overview, feature distribution, correlation analysis, geospatial analysis)](#4-bullet)\n",
    "* [5. Data visualization (scatter plots, heat maps, bar chart)](#5-bullet)\n",
    "* [6. Data insights](#6-bullet)\n",
    "* [7. Jupyter notebook --footer info-- (please always provide this at the end of each submitted notebook)](#12-bullet)"
   ]
  },
  {
   "attachments": {},
   "cell_type": "markdown",
   "metadata": {},
   "source": [
    "## 1. Libraries and Settings <a class=\"anchor\" id=\"1-bullet\"></a>"
   ]
  },
  {
   "cell_type": "code",
   "execution_count": 1,
   "metadata": {},
   "outputs": [
    {
     "name": "stdout",
     "output_type": "stream",
     "text": [
      "Current working directory: c:\\Users\\flori\\OneDrive\\Desktop\\ZHAW\\04_FS_2023\\05_Scientific Programming [Sp]\\scientific_programming\\project\n"
     ]
    }
   ],
   "source": [
    "# Required\n",
    "# !pip install nltk\n",
    "# !pip install bs4\n",
    "# !pip install seaborn\n",
    "# !pip install scipy.stats\n",
    "# !pip install openpyxl\n",
    "\n",
    "# Libraries\n",
    "import os\n",
    "import re\n",
    "import time\n",
    "import numpy as np\n",
    "import pandas as pd\n",
    "import seaborn as sns\n",
    "import sqlite3\n",
    "import scipy.stats as stats\n",
    "import random\n",
    "import fnmatch\n",
    "import openpyxl\n",
    "import string\n",
    "import requests\n",
    "import csv\n",
    "from sklearn import linear_model\n",
    "import io\n",
    "import folium\n",
    "\n",
    "import matplotlib.pyplot as plt\n",
    "from sklearn.model_selection import train_test_split\n",
    "\n",
    "# Settings for seaborn\n",
    "sns.set_theme(style=\"ticks\", palette=\"pastel\")\n",
    "\n",
    "# Set seed\n",
    "seed_value = 42\n",
    "np.random.seed(seed_value)\n",
    "random.seed(seed_value)\n",
    "\n",
    "# Ignore warnings\n",
    "import warnings\n",
    "warnings.filterwarnings('ignore')\n",
    "\n",
    "# Current working directory\n",
    "print('Current working directory:', os.getcwd())"
   ]
  },
  {
   "attachments": {},
   "cell_type": "markdown",
   "metadata": {},
   "source": [
    "## 2. Data collection <a class=\"anchor\" id=\"2-bullet\"></a>"
   ]
  },
  {
   "attachments": {},
   "cell_type": "markdown",
   "metadata": {},
   "source": [
    "### Asteroids - NASA"
   ]
  },
  {
   "cell_type": "code",
   "execution_count": 2,
   "metadata": {},
   "outputs": [
    {
     "name": "stdout",
     "output_type": "stream",
     "text": [
      "           name    diameter       velocity            distance\n",
      "0   (2000 TU28)  366.471308  15.3356012156  41541586.745959377\n",
      "1     (2003 HM)  259.441818  21.9748310242  65188931.401511058\n",
      "2     (2006 FK)  326.617897  10.1083679975  34112182.467245229\n",
      "3    (2009 CC3)  895.447192   9.5440172595  13949362.684353822\n",
      "4   (2009 HX51)  363.111479   7.8830053039  72235507.834433399\n",
      "..          ...         ...            ...                 ...\n",
      "86    (2022 HQ)   21.579430   7.0407574106   3321172.032025893\n",
      "87   (2022 HL1)   51.290860  12.8842563094   5320041.878895932\n",
      "88   (2022 HE3)   51.290860   12.903674078   4702173.833326596\n",
      "89    (2022 JT)   43.056624   4.6805394689   3247682.078388393\n",
      "90   (2022 UW4)   59.984629  12.6366912766  37318257.084527753\n",
      "\n",
      "[91 rows x 4 columns]\n"
     ]
    }
   ],
   "source": [
    "# Connect to NASA API\n",
    "\n",
    "import requests\n",
    "import pandas as pd\n",
    "\n",
    "# Set the API endpoint URL\n",
    "url = \"https://api.nasa.gov/neo/rest/v1/feed\"\n",
    "\n",
    "# Set the parameters for the API request\n",
    "api_key = \"96ycipvaBH52byeolyOAQPaaoEJCmLGZpzmWVwLG\"\n",
    "start_date = \"2022-04-22\"\n",
    "end_date = \"2022-04-26\"\n",
    "\n",
    "# Build the API request URL\n",
    "request_url = f\"{url}?start_date={start_date}&end_date={end_date}&api_key={api_key}\"\n",
    "\n",
    "# Send the API request and get the response\n",
    "response = requests.get(request_url)\n",
    "\n",
    "# Convert the response to JSON format\n",
    "json_data = response.json()\n",
    "\n",
    "# Extract the asteroid data from the JSON response\n",
    "asteroid_data = []\n",
    "for date in json_data[\"near_earth_objects\"]:\n",
    "    for asteroid in json_data[\"near_earth_objects\"][date]:\n",
    "        asteroid_data.append({\n",
    "            \"name\": asteroid[\"name\"],\n",
    "            \"diameter\": asteroid[\"estimated_diameter\"][\"meters\"][\"estimated_diameter_max\"],\n",
    "            \"velocity\": asteroid[\"close_approach_data\"][0][\"relative_velocity\"][\"kilometers_per_second\"],\n",
    "            \"distance\": asteroid[\"close_approach_data\"][0][\"miss_distance\"][\"kilometers\"]\n",
    "        })\n",
    "\n",
    "# Convert the asteroid data to a Pandas dataframe\n",
    "asteroid_df = pd.DataFrame(asteroid_data)\n",
    "\n",
    "# Display the dataframe\n",
    "print(asteroid_df)"
   ]
  },
  {
   "attachments": {},
   "cell_type": "markdown",
   "metadata": {},
   "source": [
    "## 3. Data preprocessing <a class=\"anchor\" id=\"3-bullet\"></a>"
   ]
  },
  {
   "attachments": {},
   "cell_type": "markdown",
   "metadata": {},
   "source": [
    "### Data types"
   ]
  },
  {
   "cell_type": "code",
   "execution_count": 3,
   "metadata": {},
   "outputs": [
    {
     "data": {
      "text/plain": [
       "name         object\n",
       "diameter    float64\n",
       "velocity     object\n",
       "distance     object\n",
       "dtype: object"
      ]
     },
     "execution_count": 3,
     "metadata": {},
     "output_type": "execute_result"
    }
   ],
   "source": [
    "# what data types are in the dataframe?\n",
    "asteroid_df.dtypes"
   ]
  },
  {
   "attachments": {},
   "cell_type": "markdown",
   "metadata": {},
   "source": [
    "### Count and identify missing values"
   ]
  },
  {
   "cell_type": "code",
   "execution_count": 4,
   "metadata": {},
   "outputs": [
    {
     "name": "stdout",
     "output_type": "stream",
     "text": [
      "name        0\n",
      "diameter    0\n",
      "velocity    0\n",
      "distance    0\n",
      "dtype: int64\n"
     ]
    },
    {
     "data": {
      "text/html": [
       "<div>\n",
       "<style scoped>\n",
       "    .dataframe tbody tr th:only-of-type {\n",
       "        vertical-align: middle;\n",
       "    }\n",
       "\n",
       "    .dataframe tbody tr th {\n",
       "        vertical-align: top;\n",
       "    }\n",
       "\n",
       "    .dataframe thead th {\n",
       "        text-align: right;\n",
       "    }\n",
       "</style>\n",
       "<table border=\"1\" class=\"dataframe\">\n",
       "  <thead>\n",
       "    <tr style=\"text-align: right;\">\n",
       "      <th></th>\n",
       "      <th>name</th>\n",
       "      <th>diameter</th>\n",
       "      <th>velocity</th>\n",
       "      <th>distance</th>\n",
       "    </tr>\n",
       "  </thead>\n",
       "  <tbody>\n",
       "  </tbody>\n",
       "</table>\n",
       "</div>"
      ],
      "text/plain": [
       "Empty DataFrame\n",
       "Columns: [name, diameter, velocity, distance]\n",
       "Index: []"
      ]
     },
     "execution_count": 4,
     "metadata": {},
     "output_type": "execute_result"
    }
   ],
   "source": [
    "# Count missing values\n",
    "print(pd.isna(asteroid_df).sum())\n",
    "\n",
    "# Identify rows with missing values\n",
    "asteroid_df[asteroid_df.isna().any(axis=1)]"
   ]
  },
  {
   "attachments": {},
   "cell_type": "markdown",
   "metadata": {},
   "source": [
    "### Count and identify duplicated values "
   ]
  },
  {
   "cell_type": "code",
   "execution_count": 5,
   "metadata": {},
   "outputs": [
    {
     "name": "stdout",
     "output_type": "stream",
     "text": [
      "0\n"
     ]
    },
    {
     "data": {
      "text/html": [
       "<div>\n",
       "<style scoped>\n",
       "    .dataframe tbody tr th:only-of-type {\n",
       "        vertical-align: middle;\n",
       "    }\n",
       "\n",
       "    .dataframe tbody tr th {\n",
       "        vertical-align: top;\n",
       "    }\n",
       "\n",
       "    .dataframe thead th {\n",
       "        text-align: right;\n",
       "    }\n",
       "</style>\n",
       "<table border=\"1\" class=\"dataframe\">\n",
       "  <thead>\n",
       "    <tr style=\"text-align: right;\">\n",
       "      <th></th>\n",
       "      <th>name</th>\n",
       "      <th>diameter</th>\n",
       "      <th>velocity</th>\n",
       "      <th>distance</th>\n",
       "    </tr>\n",
       "  </thead>\n",
       "  <tbody>\n",
       "  </tbody>\n",
       "</table>\n",
       "</div>"
      ],
      "text/plain": [
       "Empty DataFrame\n",
       "Columns: [name, diameter, velocity, distance]\n",
       "Index: []"
      ]
     },
     "execution_count": 5,
     "metadata": {},
     "output_type": "execute_result"
    }
   ],
   "source": [
    "# Count duplicated values\n",
    "print(asteroid_df.duplicated().sum())\n",
    "\n",
    "# Identify rows with duplicated values, e.g.:\n",
    "asteroid_df[asteroid_df[['name', 'diameter', 'velocity', 'distance']].duplicated()]"
   ]
  },
  {
   "cell_type": "code",
   "execution_count": 6,
   "metadata": {},
   "outputs": [],
   "source": [
    "# Convert the diameter, velocity, and distance columns to numeric data types\n",
    "asteroid_df[\"diameter\"] = pd.to_numeric(asteroid_df[\"diameter\"])\n",
    "asteroid_df[\"velocity\"] = pd.to_numeric(asteroid_df[\"velocity\"])\n",
    "asteroid_df[\"distance\"] = pd.to_numeric(asteroid_df[\"distance\"])\n",
    "\n"
   ]
  },
  {
   "cell_type": "code",
   "execution_count": 7,
   "metadata": {},
   "outputs": [],
   "source": [
    "# convert name to string\n",
    "asteroid_df[\"name\"] = asteroid_df[\"name\"].astype(str)"
   ]
  },
  {
   "cell_type": "code",
   "execution_count": 8,
   "metadata": {},
   "outputs": [
    {
     "name": "stdout",
     "output_type": "stream",
     "text": [
      "         name      distance\n",
      "0  (2022 HB1)  2.006649e+05\n",
      "1  (2022 HB2)  8.317558e+05\n",
      "2   (2022 HD)  1.417645e+06\n",
      "3  (2022 HS1)  1.674893e+06\n",
      "4  (2022 HK1)  1.677603e+06\n"
     ]
    }
   ],
   "source": [
    "# find the five closest asteroid to Earth\n",
    "closest_asteroids = asteroid_df.sort_values(\"distance\").head(5)\n",
    "\n",
    "# display the five closest asteroids in the right order\n",
    "print(closest_asteroids[[\"name\", \"distance\"]].reset_index(drop=True))"
   ]
  },
  {
   "cell_type": "code",
   "execution_count": 9,
   "metadata": {},
   "outputs": [
    {
     "name": "stdout",
     "output_type": "stream",
     "text": [
      "                           name      diameter       velocity  \\\n",
      "0            433 Eros (A898 PA)  51527.607590   5.5786191875   \n",
      "1          719 Albert (A911 TB)   4529.392731   3.4460290151   \n",
      "2          887 Alinda (A918 AA)  10186.851583   6.8047854867   \n",
      "3        1036 Ganymed (A924 UB)  85514.542927   6.3038665252   \n",
      "4          1221 Amor (1932 EA1)   1986.277755  13.2693807828   \n",
      "5         1566 Icarus (1949 MA)   2978.790628  27.0081177082   \n",
      "6        1580 Betulia (1950 KA)   6855.513317  28.6869570374   \n",
      "7     1620 Geographos (1951 RA)   5129.085974  11.7628248286   \n",
      "8           1627 Ivar (1929 SH)  16750.970692   8.3835333947   \n",
      "9           1685 Toro (1948 OA)   8166.575449   17.009119587   \n",
      "10        1862 Apollo (1932 HA)   3564.839479  12.3118801079   \n",
      "11      1863 Antinous (1948 EA)   4853.331752   18.079538445   \n",
      "12      1864 Daedalus (1971 FA)   6607.542706  22.5061429999   \n",
      "13      1865 Cerberus (1971 UA)   2594.418179  15.3277207205   \n",
      "14      1866 Sisyphus (1972 XA)  19321.461716  33.8145974556   \n",
      "15  1915 Quetzalcoatl (1953 EA)   1458.948557  15.1210055876   \n",
      "16        1916 Boreas (1953 RA)   6081.909854   6.9573979085   \n",
      "17          1917 Cuyo (1968 AA)   8017.518649  18.3975508673   \n",
      "18       1943 Anteros (1973 EC)   4325.536477  13.2592612669   \n",
      "19  1980 Tezcatlipoca (1950 LA)  10376.239294  12.9006028883   \n",
      "\n",
      "               distance  is_sentry_object orbiting_body  \n",
      "0    47112732.928149391             False         Earth  \n",
      "1   255628975.888701521             False         Juptr  \n",
      "2    47952475.902705628             False         Earth  \n",
      "3   292651849.435750484             False         Juptr  \n",
      "4    42642716.229489897             False         Earth  \n",
      "5    12638349.588301991             False         Earth  \n",
      "6    72648656.685149564             False         Earth  \n",
      "7     5071233.828107415             False         Earth  \n",
      "8    36882658.051541114             False         Earth  \n",
      "9    29959355.903338472             False         Earth  \n",
      "10   39948118.644590109             False         Earth  \n",
      "11   13378898.777996263             False          Mars  \n",
      "12   44377151.869819291             False         Earth  \n",
      "13   49946435.648286527             False         Earth  \n",
      "14   67489041.886545488             False         Earth  \n",
      "15    3789779.281515913             False         Earth  \n",
      "16   58321484.969065204             False         Earth  \n",
      "17   67287129.656366275             False         Earth  \n",
      "18   61714247.465693846             False         Earth  \n",
      "19   71658711.839193202             False         Earth  \n"
     ]
    }
   ],
   "source": [
    "# Set the API endpoint URL\n",
    "url2 = \"https://api.nasa.gov/neo/rest/v1/neo/browse/\"\n",
    "\n",
    "# Set the parameters for the API request\n",
    "api_key = \"96ycipvaBH52byeolyOAQPaaoEJCmLGZpzmWVwLG\"\n",
    "\n",
    "# Build the API request URL\n",
    "request_url2 = f\"{url2}?api_key={api_key}\"\n",
    "\n",
    "# Send the API request and get the response\n",
    "response2 = requests.get(request_url2)\n",
    "\n",
    "# Convert the response to JSON format\n",
    "json_data2 = response2.json()\n",
    "\n",
    "# Extract the asteroid data from the JSON response\n",
    "asteroid_data2 = []\n",
    "\n",
    "for asteroid in json_data2[\"near_earth_objects\"]:\n",
    "    asteroid_data2.append({\n",
    "        \"name\": asteroid[\"name\"],\n",
    "        \"diameter\": asteroid[\"estimated_diameter\"][\"meters\"][\"estimated_diameter_max\"],\n",
    "        \"velocity\": asteroid[\"close_approach_data\"][0][\"relative_velocity\"][\"kilometers_per_second\"],\n",
    "        \"distance\": asteroid[\"close_approach_data\"][0][\"miss_distance\"][\"kilometers\"],\n",
    "        \"is_sentry_object\": asteroid[\"is_sentry_object\"],\n",
    "        \"orbiting_body\": asteroid[\"close_approach_data\"][0][\"orbiting_body\"]\n",
    "    })\n",
    "\n",
    "# Convert the asteroid data to a Pandas dataframe\n",
    "asteroid_df2 = pd.DataFrame(asteroid_data2)\n",
    "\n",
    "# Display the dataframe\n",
    "print(asteroid_df2)\n"
   ]
  },
  {
   "attachments": {},
   "cell_type": "markdown",
   "metadata": {},
   "source": [
    "## 4. Exploratory Data Analysis (EDA) <a class=\"anchor\" id=\"4-bullet\"></a>"
   ]
  },
  {
   "attachments": {},
   "cell_type": "markdown",
   "metadata": {},
   "source": [
    "### Univariate exploratory data analysis"
   ]
  },
  {
   "attachments": {},
   "cell_type": "markdown",
   "metadata": {},
   "source": [
    "### Summary statistics of numeric variables"
   ]
  },
  {
   "cell_type": "code",
   "execution_count": 10,
   "metadata": {},
   "outputs": [
    {
     "data": {
      "text/html": [
       "<div>\n",
       "<style scoped>\n",
       "    .dataframe tbody tr th:only-of-type {\n",
       "        vertical-align: middle;\n",
       "    }\n",
       "\n",
       "    .dataframe tbody tr th {\n",
       "        vertical-align: top;\n",
       "    }\n",
       "\n",
       "    .dataframe thead th {\n",
       "        text-align: right;\n",
       "    }\n",
       "</style>\n",
       "<table border=\"1\" class=\"dataframe\">\n",
       "  <thead>\n",
       "    <tr style=\"text-align: right;\">\n",
       "      <th></th>\n",
       "      <th>diameter</th>\n",
       "      <th>velocity</th>\n",
       "      <th>distance</th>\n",
       "    </tr>\n",
       "  </thead>\n",
       "  <tbody>\n",
       "    <tr>\n",
       "      <th>count</th>\n",
       "      <td>91.000000</td>\n",
       "      <td>91.000000</td>\n",
       "      <td>9.100000e+01</td>\n",
       "    </tr>\n",
       "    <tr>\n",
       "      <th>mean</th>\n",
       "      <td>179.586657</td>\n",
       "      <td>11.566233</td>\n",
       "      <td>3.686135e+07</td>\n",
       "    </tr>\n",
       "    <tr>\n",
       "      <th>std</th>\n",
       "      <td>223.963717</td>\n",
       "      <td>5.885565</td>\n",
       "      <td>2.332858e+07</td>\n",
       "    </tr>\n",
       "    <tr>\n",
       "      <th>min</th>\n",
       "      <td>9.419763</td>\n",
       "      <td>2.341220</td>\n",
       "      <td>2.006649e+05</td>\n",
       "    </tr>\n",
       "    <tr>\n",
       "      <th>25%</th>\n",
       "      <td>41.435503</td>\n",
       "      <td>6.904033</td>\n",
       "      <td>1.473444e+07</td>\n",
       "    </tr>\n",
       "    <tr>\n",
       "      <th>50%</th>\n",
       "      <td>95.069231</td>\n",
       "      <td>10.108368</td>\n",
       "      <td>3.543768e+07</td>\n",
       "    </tr>\n",
       "    <tr>\n",
       "      <th>75%</th>\n",
       "      <td>280.572165</td>\n",
       "      <td>14.753149</td>\n",
       "      <td>5.823982e+07</td>\n",
       "    </tr>\n",
       "    <tr>\n",
       "      <th>max</th>\n",
       "      <td>1486.072436</td>\n",
       "      <td>28.373382</td>\n",
       "      <td>7.233848e+07</td>\n",
       "    </tr>\n",
       "  </tbody>\n",
       "</table>\n",
       "</div>"
      ],
      "text/plain": [
       "          diameter   velocity      distance\n",
       "count    91.000000  91.000000  9.100000e+01\n",
       "mean    179.586657  11.566233  3.686135e+07\n",
       "std     223.963717   5.885565  2.332858e+07\n",
       "min       9.419763   2.341220  2.006649e+05\n",
       "25%      41.435503   6.904033  1.473444e+07\n",
       "50%      95.069231  10.108368  3.543768e+07\n",
       "75%     280.572165  14.753149  5.823982e+07\n",
       "max    1486.072436  28.373382  7.233848e+07"
      ]
     },
     "execution_count": 10,
     "metadata": {},
     "output_type": "execute_result"
    }
   ],
   "source": [
    "asteroid_df.describe()"
   ]
  },
  {
   "attachments": {},
   "cell_type": "markdown",
   "metadata": {},
   "source": [
    "### Statistical measures (min, max, std, mean, median, count) for selected variables"
   ]
  },
  {
   "cell_type": "code",
   "execution_count": 11,
   "metadata": {},
   "outputs": [
    {
     "name": "stdout",
     "output_type": "stream",
     "text": [
      "Diameter: Count: 91 Min: 9.4 Max: 1486.1 Mean: 179.6 Median: 95.1 Std: 224.0\n",
      "Velocity: Count: 91 Min: 2.3 Max: 28.4 Mean: 11.6 Median: 10.1 Std: 5.9\n",
      "Distance: Count: 91 Min: 200664.9 Max: 72338481.5 Mean: 36861353.9 Median: 35437681.0 Std: 23328584.4\n"
     ]
    }
   ],
   "source": [
    "# diameter\n",
    "print('Diameter:',\n",
    "      'Count:', round(asteroid_df.diameter.count(), 1),\n",
    "      'Min:', round(asteroid_df.diameter.min(), 1),\n",
    "      'Max:', round(asteroid_df.diameter.max(), 1),\n",
    "      'Mean:', round(asteroid_df.diameter.mean(), 1),\n",
    "      'Median:', round(asteroid_df.diameter.median(), 1),\n",
    "      'Std:', round(asteroid_df.diameter.std(), 1))\n",
    "\n",
    "# velocity\n",
    "print('Velocity:',\n",
    "      'Count:', round(asteroid_df.velocity.count(), 1),\n",
    "      'Min:', round(asteroid_df.velocity.min(), 1),\n",
    "      'Max:', round(asteroid_df.velocity.max(), 1),\n",
    "      'Mean:', round(asteroid_df.velocity.mean(), 1),\n",
    "      'Median:', round(asteroid_df.velocity.median(), 1),\n",
    "      'Std:', round(asteroid_df.velocity.std(), 1))\n",
    "\n",
    "# distance\n",
    "print('Distance:',\n",
    "      'Count:', round(asteroid_df.distance.count(), 1),\n",
    "      'Min:', round(asteroid_df.distance.min(), 1),\n",
    "      'Max:', round(asteroid_df.distance.max(), 1),\n",
    "      'Mean:', round(asteroid_df.distance.mean(), 1),\n",
    "      'Median:', round(asteroid_df.distance.median(), 1),\n",
    "      'Std:', round(asteroid_df.distance.std(), 1))"
   ]
  },
  {
   "attachments": {},
   "cell_type": "markdown",
   "metadata": {},
   "source": [
    "### Boxplot"
   ]
  },
  {
   "cell_type": "code",
   "execution_count": 12,
   "metadata": {},
   "outputs": [
    {
     "data": {
      "text/plain": [
       "<Axes: xlabel='diameter'>"
      ]
     },
     "execution_count": 12,
     "metadata": {},
     "output_type": "execute_result"
    },
    {
     "data": {
      "image/png": "[encoded data removed]",
      "text/plain": [
       "<Figure size 1000x120 with 1 Axes>"
      ]
     },
     "metadata": {},
     "output_type": "display_data"
    }
   ],
   "source": [
    "#Boxplot of all asteroids diameter\n",
    "fig = plt.figure(figsize=(10,1.2))\n",
    "plt.ticklabel_format(style='plain')\n",
    "sns.boxplot(x=asteroid_df['diameter'], color=\"greenyellow\")"
   ]
  },
  {
   "attachments": {},
   "cell_type": "markdown",
   "metadata": {},
   "source": [
    "### Histogram (matplotlib)"
   ]
  },
  {
   "cell_type": "code",
   "execution_count": 13,
   "metadata": {},
   "outputs": [
    {
     "data": {
      "image/png": "[encoded data removed]",
      "text/plain": [
       "<Figure size 700x400 with 1 Axes>"
      ]
     },
     "metadata": {},
     "output_type": "display_data"
    }
   ],
   "source": [
    "# Plot Histogram\n",
    "fig = plt.figure( figsize=(7,4))\n",
    "plt.xticks(fontsize=14, rotation=0)\n",
    "plt.yticks(fontsize=14, rotation=0)\n",
    "n, bins, patches = plt.hist(x=asteroid_df['diameter'], \n",
    "                            bins=20, \n",
    "                            color='#42AD12',\n",
    "                            alpha=0.5, \n",
    "                            rwidth=0.95\n",
    "                   )\n",
    "plt.grid(True)\n",
    "plt.ticklabel_format(style='plain')\n",
    "plt.grid(axis='y', alpha=0.75)\n",
    "\n",
    "# Set labels\n",
    "plt.xlabel('diameter', fontsize=10, labelpad=10)\n",
    "plt.ylabel('meter', fontsize=10, labelpad=10)\n",
    "plt.title('Histogram of diameter', fontsize=12, pad=10)\n",
    "\n",
    "# Set fontsize of tick labels\n",
    "plt.xticks(fontsize = 10)\n",
    "plt.yticks(fontsize = 10)\n",
    "\n",
    "plt.show()"
   ]
  },
  {
   "attachments": {},
   "cell_type": "markdown",
   "metadata": {},
   "source": [
    "### Multivariate exploratory data analysis (EDA)"
   ]
  },
  {
   "attachments": {},
   "cell_type": "markdown",
   "metadata": {},
   "source": [
    "### Pivot tables"
   ]
  },
  {
   "cell_type": "code",
   "execution_count": 14,
   "metadata": {},
   "outputs": [
    {
     "data": {
      "text/html": [
       "<div>\n",
       "<style scoped>\n",
       "    .dataframe tbody tr th:only-of-type {\n",
       "        vertical-align: middle;\n",
       "    }\n",
       "\n",
       "    .dataframe tbody tr th {\n",
       "        vertical-align: top;\n",
       "    }\n",
       "\n",
       "    .dataframe thead th {\n",
       "        text-align: right;\n",
       "    }\n",
       "</style>\n",
       "<table border=\"1\" class=\"dataframe\">\n",
       "  <thead>\n",
       "    <tr style=\"text-align: right;\">\n",
       "      <th></th>\n",
       "      <th>diameter</th>\n",
       "      <th>distance</th>\n",
       "      <th>velocity</th>\n",
       "    </tr>\n",
       "    <tr>\n",
       "      <th>name</th>\n",
       "      <th></th>\n",
       "      <th></th>\n",
       "      <th></th>\n",
       "    </tr>\n",
       "  </thead>\n",
       "  <tbody>\n",
       "    <tr>\n",
       "      <th>(2000 TU28)</th>\n",
       "      <td>366.471308</td>\n",
       "      <td>4.154159e+07</td>\n",
       "      <td>15.335601</td>\n",
       "    </tr>\n",
       "    <tr>\n",
       "      <th>(2001 XP31)</th>\n",
       "      <td>219.806221</td>\n",
       "      <td>5.078484e+07</td>\n",
       "      <td>6.864126</td>\n",
       "    </tr>\n",
       "    <tr>\n",
       "      <th>(2002 TA60)</th>\n",
       "      <td>430.566244</td>\n",
       "      <td>6.705231e+07</td>\n",
       "      <td>23.339860</td>\n",
       "    </tr>\n",
       "    <tr>\n",
       "      <th>(2003 HM)</th>\n",
       "      <td>259.441818</td>\n",
       "      <td>6.518893e+07</td>\n",
       "      <td>21.974831</td>\n",
       "    </tr>\n",
       "    <tr>\n",
       "      <th>(2003 YG136)</th>\n",
       "      <td>51.765448</td>\n",
       "      <td>5.706390e+07</td>\n",
       "      <td>14.265074</td>\n",
       "    </tr>\n",
       "    <tr>\n",
       "      <th>...</th>\n",
       "      <td>...</td>\n",
       "      <td>...</td>\n",
       "      <td>...</td>\n",
       "    </tr>\n",
       "    <tr>\n",
       "      <th>162567 (2000 RW37)</th>\n",
       "      <td>602.615057</td>\n",
       "      <td>6.929938e+07</td>\n",
       "      <td>5.818775</td>\n",
       "    </tr>\n",
       "    <tr>\n",
       "      <th>162679 (2000 TK1)</th>\n",
       "      <td>1486.072436</td>\n",
       "      <td>7.123356e+07</td>\n",
       "      <td>28.195530</td>\n",
       "    </tr>\n",
       "    <tr>\n",
       "      <th>399308 (1993 GD)</th>\n",
       "      <td>438.571068</td>\n",
       "      <td>5.490879e+07</td>\n",
       "      <td>9.946495</td>\n",
       "    </tr>\n",
       "    <tr>\n",
       "      <th>468481 (2004 TP20)</th>\n",
       "      <td>580.817882</td>\n",
       "      <td>6.227877e+07</td>\n",
       "      <td>23.569661</td>\n",
       "    </tr>\n",
       "    <tr>\n",
       "      <th>613398 (2006 FK)</th>\n",
       "      <td>334.225806</td>\n",
       "      <td>3.411218e+07</td>\n",
       "      <td>10.108368</td>\n",
       "    </tr>\n",
       "  </tbody>\n",
       "</table>\n",
       "<p>91 rows × 3 columns</p>\n",
       "</div>"
      ],
      "text/plain": [
       "                       diameter      distance   velocity\n",
       "name                                                    \n",
       "(2000 TU28)          366.471308  4.154159e+07  15.335601\n",
       "(2001 XP31)          219.806221  5.078484e+07   6.864126\n",
       "(2002 TA60)          430.566244  6.705231e+07  23.339860\n",
       "(2003 HM)            259.441818  6.518893e+07  21.974831\n",
       "(2003 YG136)          51.765448  5.706390e+07  14.265074\n",
       "...                         ...           ...        ...\n",
       "162567 (2000 RW37)   602.615057  6.929938e+07   5.818775\n",
       "162679 (2000 TK1)   1486.072436  7.123356e+07  28.195530\n",
       "399308 (1993 GD)     438.571068  5.490879e+07   9.946495\n",
       "468481 (2004 TP20)   580.817882  6.227877e+07  23.569661\n",
       "613398 (2006 FK)     334.225806  3.411218e+07  10.108368\n",
       "\n",
       "[91 rows x 3 columns]"
      ]
     },
     "execution_count": 14,
     "metadata": {},
     "output_type": "execute_result"
    }
   ],
   "source": [
    "# Using pivot_table to reshape the data and calculate means \n",
    "pd.pivot_table(asteroid_df[['name', 'diameter', 'velocity', 'distance']],\n",
    "               index=['name'],\n",
    "               values=['diameter', 'velocity', 'distance'],\n",
    "               aggfunc=np.mean)"
   ]
  },
  {
   "attachments": {},
   "cell_type": "markdown",
   "metadata": {},
   "source": [
    "### Correlation matrix"
   ]
  },
  {
   "cell_type": "code",
   "execution_count": 15,
   "metadata": {},
   "outputs": [
    {
     "data": {
      "text/html": [
       "<div>\n",
       "<style scoped>\n",
       "    .dataframe tbody tr th:only-of-type {\n",
       "        vertical-align: middle;\n",
       "    }\n",
       "\n",
       "    .dataframe tbody tr th {\n",
       "        vertical-align: top;\n",
       "    }\n",
       "\n",
       "    .dataframe thead th {\n",
       "        text-align: right;\n",
       "    }\n",
       "</style>\n",
       "<table border=\"1\" class=\"dataframe\">\n",
       "  <thead>\n",
       "    <tr style=\"text-align: right;\">\n",
       "      <th></th>\n",
       "      <th>diameter</th>\n",
       "      <th>velocity</th>\n",
       "      <th>distance</th>\n",
       "    </tr>\n",
       "  </thead>\n",
       "  <tbody>\n",
       "    <tr>\n",
       "      <th>diameter</th>\n",
       "      <td>1.000000</td>\n",
       "      <td>0.346899</td>\n",
       "      <td>0.310366</td>\n",
       "    </tr>\n",
       "    <tr>\n",
       "      <th>velocity</th>\n",
       "      <td>0.346899</td>\n",
       "      <td>1.000000</td>\n",
       "      <td>0.442606</td>\n",
       "    </tr>\n",
       "    <tr>\n",
       "      <th>distance</th>\n",
       "      <td>0.310366</td>\n",
       "      <td>0.442606</td>\n",
       "      <td>1.000000</td>\n",
       "    </tr>\n",
       "  </tbody>\n",
       "</table>\n",
       "</div>"
      ],
      "text/plain": [
       "          diameter  velocity  distance\n",
       "diameter  1.000000  0.346899  0.310366\n",
       "velocity  0.346899  1.000000  0.442606\n",
       "distance  0.310366  0.442606  1.000000"
      ]
     },
     "execution_count": 15,
     "metadata": {},
     "output_type": "execute_result"
    }
   ],
   "source": [
    "corr = asteroid_df.corr()\n",
    "corr"
   ]
  },
  {
   "attachments": {},
   "cell_type": "markdown",
   "metadata": {},
   "source": [
    "Looking at the correlation matrix, we can see that there is a positive correlation between diameter and velocity (r=0.3469). This suggests that as the diameter of the asteroid increases, its velocity also tends to increase. However, the correlation is not very strong.\n",
    "\n",
    "There is also a positive correlation between velocity and distance (r=0.4426), which suggests that as the velocity of the asteroid increases, its distance from the Earth also tends to increase. Again, the correlation is not very strong.\n",
    "\n",
    "Finally, there is a positive correlation between diameter and distance (r=0.3104). This suggests that as the diameter of the asteroid increases, its distance from the Earth also tends to increase. However, this correlation is weaker than the other two."
   ]
  },
  {
   "attachments": {},
   "cell_type": "markdown",
   "metadata": {},
   "source": [
    "### Covariance matrix"
   ]
  },
  {
   "cell_type": "code",
   "execution_count": 16,
   "metadata": {},
   "outputs": [
    {
     "data": {
      "text/html": [
       "<div>\n",
       "<style scoped>\n",
       "    .dataframe tbody tr th:only-of-type {\n",
       "        vertical-align: middle;\n",
       "    }\n",
       "\n",
       "    .dataframe tbody tr th {\n",
       "        vertical-align: top;\n",
       "    }\n",
       "\n",
       "    .dataframe thead th {\n",
       "        text-align: right;\n",
       "    }\n",
       "</style>\n",
       "<table border=\"1\" class=\"dataframe\">\n",
       "  <thead>\n",
       "    <tr style=\"text-align: right;\">\n",
       "      <th></th>\n",
       "      <th>diameter</th>\n",
       "      <th>velocity</th>\n",
       "      <th>distance</th>\n",
       "    </tr>\n",
       "  </thead>\n",
       "  <tbody>\n",
       "    <tr>\n",
       "      <th>diameter</th>\n",
       "      <td>5.015975e+04</td>\n",
       "      <td>4.572666e+02</td>\n",
       "      <td>1.621588e+09</td>\n",
       "    </tr>\n",
       "    <tr>\n",
       "      <th>velocity</th>\n",
       "      <td>4.572666e+02</td>\n",
       "      <td>3.463988e+01</td>\n",
       "      <td>6.077063e+07</td>\n",
       "    </tr>\n",
       "    <tr>\n",
       "      <th>distance</th>\n",
       "      <td>1.621588e+09</td>\n",
       "      <td>6.077063e+07</td>\n",
       "      <td>5.442228e+14</td>\n",
       "    </tr>\n",
       "  </tbody>\n",
       "</table>\n",
       "</div>"
      ],
      "text/plain": [
       "              diameter      velocity      distance\n",
       "diameter  5.015975e+04  4.572666e+02  1.621588e+09\n",
       "velocity  4.572666e+02  3.463988e+01  6.077063e+07\n",
       "distance  1.621588e+09  6.077063e+07  5.442228e+14"
      ]
     },
     "execution_count": 16,
     "metadata": {},
     "output_type": "execute_result"
    }
   ],
   "source": [
    "cov = asteroid_df.cov()\n",
    "cov"
   ]
  },
  {
   "attachments": {},
   "cell_type": "markdown",
   "metadata": {},
   "source": [
    "Looking at the covariance matrix, we can see that the variance of diameter is much larger than the variance of velocity or distance, as expected. The covariance between diameter and velocity is positive, indicating that there is a tendency for larger asteroids to have higher velocities, but the covariance is relatively small, which suggests that the two variables are not strongly related. The covariance between diameter and distance is also positive but again, it is relatively small.\n",
    "\n",
    "The covariance between velocity and distance is positive and relatively larger than the covariance between diameter and velocity, which indicates a stronger relationship between velocity and distance. However, it's difficult to compare the magnitudes of the covariances directly, especially when the variables have different units and scales.\n",
    "\n",
    "\n",
    "\n"
   ]
  },
  {
   "attachments": {},
   "cell_type": "markdown",
   "metadata": {},
   "source": [
    "### Compare the average velocity of the 5 smallest asteroid "
   ]
  },
  {
   "cell_type": "code",
   "execution_count": 17,
   "metadata": {},
   "outputs": [
    {
     "name": "stdout",
     "output_type": "stream",
     "text": [
      "         name   diameter\n",
      "0   (2020 UY)   9.419763\n",
      "1  (2022 HK1)  12.191018\n",
      "2  (2022 AP1)  12.474983\n",
      "3   (2021 XZ)  13.553142\n",
      "4  (2016 JQ5)  14.257388\n"
     ]
    }
   ],
   "source": [
    "# find the five lightest asteroid \n",
    "size_asteroids = asteroid_df.sort_values(\"diameter\").head(5)\n",
    "\n",
    "# display the five closest asteroids in the right order\n",
    "print(size_asteroids[[\"name\", \"diameter\"]].reset_index(drop=True))"
   ]
  },
  {
   "cell_type": "code",
   "execution_count": 18,
   "metadata": {},
   "outputs": [
    {
     "name": "stdout",
     "output_type": "stream",
     "text": [
      "name      (2016 JQ5)  (2020 UY)  (2021 XZ)  (2022 AP1)  (2022 HK1)\n",
      "velocity    15.52233  21.200504   9.519128     7.34545    5.689875\n"
     ]
    }
   ],
   "source": [
    "# Create pivot table\n",
    "table = pd.pivot_table(size_asteroids, \n",
    "                       values='velocity',\n",
    "                       columns=['name'], \n",
    "                       aggfunc=np.mean)\n",
    "print(table)"
   ]
  },
  {
   "attachments": {},
   "cell_type": "markdown",
   "metadata": {},
   "source": [
    "### ANOVA to compare the relationship between the sizes and velocity"
   ]
  },
  {
   "cell_type": "code",
   "execution_count": 19,
   "metadata": {},
   "outputs": [
    {
     "name": "stdout",
     "output_type": "stream",
     "text": [
      "F-value: nan p-value nan\n"
     ]
    }
   ],
   "source": [
    "# Create subsets (groups)\n",
    "UY_2020 = size_asteroids.loc[size_asteroids['name'] == '2020 UY']\n",
    "HK1_2022 = size_asteroids.loc[size_asteroids['name'] == '2022 HK1']\n",
    "AP1_2022 = size_asteroids.loc[size_asteroids['name'] == '2022 AP1']\n",
    "\n",
    "# Create ANOVA\n",
    "fvalue, pvalue = stats.f_oneway(UY_2020['velocity'],\n",
    "                                HK1_2022['velocity'], \n",
    "                                AP1_2022['velocity'])\n",
    "\n",
    "# Print results\n",
    "print('F-value:', fvalue, 'p-value', pvalue)\n"
   ]
  },
  {
   "attachments": {},
   "cell_type": "markdown",
   "metadata": {},
   "source": [
    "## 5. Data Visualisation <a class=\"anchor\" id=\"5-bullet\"></a>"
   ]
  },
  {
   "attachments": {},
   "cell_type": "markdown",
   "metadata": {},
   "source": [
    "### Scatterplot-matrix"
   ]
  },
  {
   "cell_type": "code",
   "execution_count": 20,
   "metadata": {},
   "outputs": [
    {
     "data": {
      "text/plain": [
       "<seaborn.axisgrid.PairGrid at 0x1d3c6edadd0>"
      ]
     },
     "execution_count": 20,
     "metadata": {},
     "output_type": "execute_result"
    },
    {
     "data": {
      "image/png": "[encoded data removed]",
      "text/plain": [
       "<Figure size 900x900 with 12 Axes>"
      ]
     },
     "metadata": {},
     "output_type": "display_data"
    }
   ],
   "source": [
    "sns.set(style=\"ticks\", font_scale=1.6)\n",
    "g = sns.PairGrid(asteroid_df[['diameter',\n",
    "                     'velocity',\n",
    "                     'distance',\n",
    "                     ]], \n",
    "                 height=3, \n",
    "                 aspect=1)\n",
    "g.map_upper(sns.scatterplot,color='darkgreen', s=15)\n",
    "g.map_lower(sns.scatterplot, color='darkgreen', s=15)\n",
    "g.map_diag(plt.hist, color='brown')"
   ]
  },
  {
   "attachments": {},
   "cell_type": "markdown",
   "metadata": {},
   "source": [
    "### Heatmap"
   ]
  },
  {
   "cell_type": "code",
   "execution_count": 21,
   "metadata": {},
   "outputs": [
    {
     "name": "stdout",
     "output_type": "stream",
     "text": [
      "Correlation matrix\n",
      "          diameter  velocity  distance\n",
      "diameter  1.000000  0.346899  0.310366\n",
      "velocity  0.346899  1.000000  0.442606\n",
      "distance  0.310366  0.442606  1.000000\n"
     ]
    },
    {
     "data": {
      "image/png": "[encoded data removed]",
      "text/plain": [
       "<Figure size 600x400 with 2 Axes>"
      ]
     },
     "metadata": {},
     "output_type": "display_data"
    }
   ],
   "source": [
    "# Change font size of annotations\n",
    "sns.set(font_scale=0.8)\n",
    "\n",
    "# Correlation matrix\n",
    "corr = asteroid_df.corr()\n",
    "print('Correlation matrix')\n",
    "print(corr)\n",
    "\n",
    "# Figure\n",
    "plt.figure(figsize=(6,4))\n",
    "sns.heatmap(corr, cmap=\"BrBG\", annot=True)\n",
    "plt.show()"
   ]
  },
  {
   "attachments": {},
   "cell_type": "markdown",
   "metadata": {},
   "source": [
    "### Scatterplot diameter vs velocity"
   ]
  },
  {
   "cell_type": "code",
   "execution_count": 21,
   "metadata": {},
   "outputs": [
    {
     "data": {
      "image/png": "[encoded data removed]",
      "text/plain": [
       "<Figure size 700x400 with 1 Axes>"
      ]
     },
     "metadata": {},
     "output_type": "display_data"
    }
   ],
   "source": [
    "# Scatterplot\n",
    "plt.figure(figsize=(7,4))\n",
    "plt.plot(asteroid_df['diameter'], \n",
    "         asteroid_df['velocity'], \n",
    "         'o', \n",
    "         markersize=3.5,\n",
    "         color=\"green\")\n",
    "\n",
    "# Add title and axes labels\n",
    "plt.title('Scatterplot diameter vs velocity', fontsize=12)\n",
    "plt.ylabel('diameter (m)', fontsize=12)\n",
    "plt.xlabel('velocity (km/s)', fontsize=12)\n",
    "\n",
    "# Set fontsize of tick labels\n",
    "plt.xticks(fontsize = 10)\n",
    "plt.yticks(fontsize = 10)\n",
    "\n",
    "plt.show()"
   ]
  },
  {
   "attachments": {},
   "cell_type": "markdown",
   "metadata": {},
   "source": [
    "## 6. Data Insights <a class=\"anchor\" id=\"6-bullet\"></a>"
   ]
  },
  {
   "attachments": {},
   "cell_type": "markdown",
   "metadata": {},
   "source": [
    "### Pearson correlation diameter vs velocity"
   ]
  },
  {
   "cell_type": "code",
   "execution_count": 22,
   "metadata": {},
   "outputs": [
    {
     "name": "stdout",
     "output_type": "stream",
     "text": [
      "Pearsons correlation coefficient (r): 0.3469\n",
      "p-value: 0.0008\n"
     ]
    }
   ],
   "source": [
    "# Perform Persons correlation\n",
    "res = stats.pearsonr(asteroid_df['velocity'], asteroid_df['diameter'])\n",
    "\n",
    "# Print result\n",
    "print(f'Pearsons correlation coefficient (r): {res[0]:.4f}')\n",
    "print(f'p-value: {res[1]:.4f}')"
   ]
  },
  {
   "attachments": {},
   "cell_type": "markdown",
   "metadata": {},
   "source": [
    "The correlation coefficient (r) of 0.3469 suggests a weak positive correlation between the two variables. It means that as one variable increases, the other variable tends to increase as well, but the relationship is not very strong.\n",
    "\n",
    "In this case, the p-value is 0.0008, which is less than 0.05, indicating that the correlation is statistically significant and reject the null hypothesis that there is no correlation between the two variables, concluding that there is evidence of a correlation. This means that there is a low probability that the correlation coefficient of 0.3469 occurred by chance."
   ]
  },
  {
   "attachments": {},
   "cell_type": "markdown",
   "metadata": {},
   "source": [
    "### Jupyter notebook --footer info--"
   ]
  },
  {
   "cell_type": "code",
   "execution_count": 23,
   "metadata": {},
   "outputs": [
    {
     "name": "stdout",
     "output_type": "stream",
     "text": [
      "-----------------------------------\n",
      "NT\n",
      "Windows | 10\n",
      "Datetime: 2023-05-14 20:35:45\n",
      "Python Version: 3.10.9\n",
      "-----------------------------------\n"
     ]
    }
   ],
   "source": [
    "import os\n",
    "import platform\n",
    "import socket\n",
    "from platform import python_version\n",
    "from datetime import datetime\n",
    "\n",
    "print('-----------------------------------')\n",
    "print(os.name.upper())\n",
    "print(platform.system(), '|', platform.release())\n",
    "print('Datetime:', datetime.now().strftime(\"%Y-%m-%d %H:%M:%S\"))\n",
    "print('Python Version:', python_version())\n",
    "print('-----------------------------------')"
   ]
  }
 ],
 "metadata": {
  "kernelspec": {
   "display_name": "spenv",
   "language": "python",
   "name": "python3"
  },
  "language_info": {
   "codemirror_mode": {
    "name": "ipython",
    "version": 3
   },
   "file_extension": ".py",
   "mimetype": "text/x-python",
   "name": "python",
   "nbconvert_exporter": "python",
   "pygments_lexer": "ipython3",
   "version": "3.10.9"
  },
  "orig_nbformat": 4
 },
 "nbformat": 4,
 "nbformat_minor": 2
}

{
 "cells": [
  {
   "attachments": {},
   "cell_type": "markdown",
   "metadata": {},
   "source": [
    "# Scientific Programming - Project Work "
   ]
  },
  {
   "attachments": {},
   "cell_type": "markdown",
   "metadata": {},
   "source": [
    "### Asteroids - NASA"
   ]
  },
  {
   "cell_type": "code",
   "execution_count": 6,
   "metadata": {},
   "outputs": [
    {
     "ename": "KeyError",
     "evalue": "'near_earth_objects'",
     "output_type": "error",
     "traceback": [
      "\u001b[1;31m---------------------------------------------------------------------------\u001b[0m",
      "\u001b[1;31mKeyError\u001b[0m                                  Traceback (most recent call last)",
      "Cell \u001b[1;32mIn[6], line 25\u001b[0m\n\u001b[0;32m     23\u001b[0m \u001b[39m# Extract the asteroid data from the JSON response\u001b[39;00m\n\u001b[0;32m     24\u001b[0m asteroid_data \u001b[39m=\u001b[39m []\n\u001b[1;32m---> 25\u001b[0m \u001b[39mfor\u001b[39;00m date \u001b[39min\u001b[39;00m json_data[\u001b[39m\"\u001b[39;49m\u001b[39mnear_earth_objects\u001b[39;49m\u001b[39m\"\u001b[39;49m]:\n\u001b[0;32m     26\u001b[0m     \u001b[39mfor\u001b[39;00m asteroid \u001b[39min\u001b[39;00m json_data[\u001b[39m\"\u001b[39m\u001b[39mnear_earth_objects\u001b[39m\u001b[39m\"\u001b[39m][date]:\n\u001b[0;32m     27\u001b[0m         asteroid_data\u001b[39m.\u001b[39mappend({\n\u001b[0;32m     28\u001b[0m             \u001b[39m\"\u001b[39m\u001b[39mname\u001b[39m\u001b[39m\"\u001b[39m: asteroid[\u001b[39m\"\u001b[39m\u001b[39mname\u001b[39m\u001b[39m\"\u001b[39m],\n\u001b[0;32m     29\u001b[0m             \u001b[39m\"\u001b[39m\u001b[39mdiameter\u001b[39m\u001b[39m\"\u001b[39m: asteroid[\u001b[39m\"\u001b[39m\u001b[39mestimated_diameter\u001b[39m\u001b[39m\"\u001b[39m][\u001b[39m\"\u001b[39m\u001b[39mmeters\u001b[39m\u001b[39m\"\u001b[39m][\u001b[39m\"\u001b[39m\u001b[39mestimated_diameter_max\u001b[39m\u001b[39m\"\u001b[39m],\n\u001b[0;32m     30\u001b[0m             \u001b[39m\"\u001b[39m\u001b[39mvelocity\u001b[39m\u001b[39m\"\u001b[39m: asteroid[\u001b[39m\"\u001b[39m\u001b[39mclose_approach_data\u001b[39m\u001b[39m\"\u001b[39m][\u001b[39m0\u001b[39m][\u001b[39m\"\u001b[39m\u001b[39mrelative_velocity\u001b[39m\u001b[39m\"\u001b[39m][\u001b[39m\"\u001b[39m\u001b[39mkilometers_per_second\u001b[39m\u001b[39m\"\u001b[39m],\n\u001b[0;32m     31\u001b[0m             \u001b[39m\"\u001b[39m\u001b[39mdistance\u001b[39m\u001b[39m\"\u001b[39m: asteroid[\u001b[39m\"\u001b[39m\u001b[39mclose_approach_data\u001b[39m\u001b[39m\"\u001b[39m][\u001b[39m0\u001b[39m][\u001b[39m\"\u001b[39m\u001b[39mmiss_distance\u001b[39m\u001b[39m\"\u001b[39m][\u001b[39m\"\u001b[39m\u001b[39mkilometers\u001b[39m\u001b[39m\"\u001b[39m]\n\u001b[0;32m     32\u001b[0m         })\n",
      "\u001b[1;31mKeyError\u001b[0m: 'near_earth_objects'"
     ]
    }
   ],
   "source": [
    "# Connect to NASA API\n",
    "\n",
    "import requests\n",
    "import pandas as pd\n",
    "\n",
    "# Set the API endpoint URL\n",
    "url = \"https://api.nasa.gov/neo/rest/v1/feed\"\n",
    "\n",
    "# Set the parameters for the API request\n",
    "api_key = \"96ycipvaBH52byeolyOAQPaaoEJCmLGZpzmWVwLG \"\n",
    "start_date = \"2023-04-22\"\n",
    "end_date = \"2023-04-22\"\n",
    "\n",
    "# Build the API request URL\n",
    "request_url = f\"{url}?start_date={start_date}&end_date={end_date}&api_key={api_key}\"\n",
    "\n",
    "# Send the API request and get the response\n",
    "response = requests.get(request_url)\n",
    "\n",
    "# Convert the response to JSON format\n",
    "json_data = response.json()\n",
    "\n",
    "# Extract the asteroid data from the JSON response\n",
    "asteroid_data = []\n",
    "for date in json_data[\"near_earth_objects\"]:\n",
    "    for asteroid in json_data[\"near_earth_objects\"][date]:\n",
    "        asteroid_data.append({\n",
    "            \"name\": asteroid[\"name\"],\n",
    "            \"diameter\": asteroid[\"estimated_diameter\"][\"meters\"][\"estimated_diameter_max\"],\n",
    "            \"velocity\": asteroid[\"close_approach_data\"][0][\"relative_velocity\"][\"kilometers_per_second\"],\n",
    "            \"distance\": asteroid[\"close_approach_data\"][0][\"miss_distance\"][\"kilometers\"]\n",
    "        })\n",
    "\n",
    "# Convert the asteroid data to a Pandas dataframe\n",
    "asteroid_df = pd.DataFrame(asteroid_data)\n",
    "\n",
    "# Display the dataframe\n",
    "print(asteroid_df)"
   ]
  }
 ],
 "metadata": {
  "kernelspec": {
   "display_name": "spenv",
   "language": "python",
   "name": "python3"
  },
  "language_info": {
   "codemirror_mode": {
    "name": "ipython",
    "version": 3
   },
   "file_extension": ".py",
   "mimetype": "text/x-python",
   "name": "python",
   "nbconvert_exporter": "python",
   "pygments_lexer": "ipython3",
   "version": "3.10.9"
  },
  "orig_nbformat": 4
 },
 "nbformat": 4,
 "nbformat_minor": 2
}

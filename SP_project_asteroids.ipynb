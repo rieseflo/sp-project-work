{
 "cells": [
  {
   "attachments": {},
   "cell_type": "markdown",
   "metadata": {},
   "source": [
    "# Scientific Programming - Project Work "
   ]
  },
  {
   "attachments": {},
   "cell_type": "markdown",
   "metadata": {},
   "source": [
    "### Asteroids - NASA"
   ]
  },
  {
   "cell_type": "code",
   "execution_count": null,
   "metadata": {},
   "outputs": [],
   "source": [
    "# Connect to NASA API\n",
    "\n",
    "import requests\n",
    "import pandas as pd\n",
    "\n",
    "# Set the API endpoint URL\n",
    "url = \"https://api.nasa.gov/neo/rest/v1/feed\"\n",
    "\n",
    "# Set the parameters for the API request\n",
    "api_key = \"96ycipvaBH52byeolyOAQPaaoEJCmLGZpzmWVwLG\"\n",
    "start_date = \"2022-04-22\"\n",
    "end_date = \"2022-04-26\"\n",
    "\n",
    "# Build the API request URL\n",
    "request_url = f\"{url}?start_date={start_date}&end_date={end_date}&api_key={api_key}\"\n",
    "\n",
    "# Send the API request and get the response\n",
    "response = requests.get(request_url)\n",
    "\n",
    "# Convert the response to JSON format\n",
    "json_data = response.json()\n",
    "\n",
    "# Extract the asteroid data from the JSON response\n",
    "asteroid_data = []\n",
    "for date in json_data[\"near_earth_objects\"]:\n",
    "    for asteroid in json_data[\"near_earth_objects\"][date]:\n",
    "        asteroid_data.append({\n",
    "            \"name\": asteroid[\"name\"],\n",
    "            \"diameter\": asteroid[\"estimated_diameter\"][\"meters\"][\"estimated_diameter_max\"],\n",
    "            \"velocity\": asteroid[\"close_approach_data\"][0][\"relative_velocity\"][\"kilometers_per_second\"],\n",
    "            \"distance\": asteroid[\"close_approach_data\"][0][\"miss_distance\"][\"kilometers\"]\n",
    "        })\n",
    "\n",
    "# Convert the asteroid data to a Pandas dataframe\n",
    "asteroid_df = pd.DataFrame(asteroid_data)\n",
    "\n",
    "# Display the dataframe\n",
    "print(asteroid_df)"
   ]
  },
  {
   "cell_type": "code",
   "execution_count": null,
   "metadata": {},
   "outputs": [],
   "source": [
    "# what data types are in the dataframe?\n",
    "asteroid_df.dtypes"
   ]
  },
  {
   "cell_type": "code",
   "execution_count": 3,
   "metadata": {},
   "outputs": [],
   "source": [
    "# Convert the diameter, velocity, and distance columns to numeric data types\n",
    "asteroid_df[\"diameter\"] = pd.to_numeric(asteroid_df[\"diameter\"])\n",
    "asteroid_df[\"velocity\"] = pd.to_numeric(asteroid_df[\"velocity\"])\n",
    "asteroid_df[\"distance\"] = pd.to_numeric(asteroid_df[\"distance\"])\n",
    "\n"
   ]
  },
  {
   "cell_type": "code",
   "execution_count": 4,
   "metadata": {},
   "outputs": [],
   "source": [
    "# convert name to string\n",
    "asteroid_df[\"name\"] = asteroid_df[\"name\"].astype(str)"
   ]
  },
  {
   "cell_type": "code",
   "execution_count": null,
   "metadata": {},
   "outputs": [],
   "source": [
    "# find the five closest asteroid to Earth\n",
    "closest_asteroids = asteroid_df.sort_values(\"distance\").head(5)\n",
    "\n",
    "# display the five closest asteroids in the right order\n",
    "print(closest_asteroids[[\"name\", \"distance\"]].reset_index(drop=True))"
   ]
  },
  {
   "cell_type": "code",
   "execution_count": null,
   "metadata": {},
   "outputs": [],
   "source": [
    "# Set the API endpoint URL\n",
    "url2 = \"https://api.nasa.gov/neo/rest/v1/neo/browse/\"\n",
    "\n",
    "# Set the parameters for the API request\n",
    "api_key = \"96ycipvaBH52byeolyOAQPaaoEJCmLGZpzmWVwLG\"\n",
    "\n",
    "# Build the API request URL\n",
    "request_url2 = f\"{url2}?api_key={api_key}\"\n",
    "\n",
    "# Send the API request and get the response\n",
    "response2 = requests.get(request_url2)\n",
    "\n",
    "# Convert the response to JSON format\n",
    "json_data2 = response2.json()\n",
    "\n",
    "# Extract the asteroid data from the JSON response\n",
    "asteroid_data2 = []\n",
    "\n",
    "for asteroid in json_data2[\"near_earth_objects\"]:\n",
    "    asteroid_data2.append({\n",
    "        \"name\": asteroid[\"name\"],\n",
    "        \"diameter\": asteroid[\"estimated_diameter\"][\"meters\"][\"estimated_diameter_max\"],\n",
    "        \"velocity\": asteroid[\"close_approach_data\"][0][\"relative_velocity\"][\"kilometers_per_second\"],\n",
    "        \"distance\": asteroid[\"close_approach_data\"][0][\"miss_distance\"][\"kilometers\"],\n",
    "        \"is_sentry_object\": asteroid[\"is_sentry_object\"],\n",
    "        \"orbiting_body\": asteroid[\"close_approach_data\"][0][\"orbiting_body\"]\n",
    "    })\n",
    "\n",
    "# Convert the asteroid data to a Pandas dataframe\n",
    "asteroid_df2 = pd.DataFrame(asteroid_data2)\n",
    "\n",
    "# Display the dataframe\n",
    "print(asteroid_df2)\n"
   ]
  },
  {
   "cell_type": "code",
   "execution_count": null,
   "metadata": {},
   "outputs": [],
   "source": []
  }
 ],
 "metadata": {
  "kernelspec": {
   "display_name": "spenv",
   "language": "python",
   "name": "python3"
  },
  "language_info": {
   "codemirror_mode": {
    "name": "ipython",
    "version": 3
   },
   "file_extension": ".py",
   "mimetype": "text/x-python",
   "name": "python",
   "nbconvert_exporter": "python",
   "pygments_lexer": "ipython3",
   "version": "3.10.9"
  },
  "orig_nbformat": 4
 },
 "nbformat": 4,
 "nbformat_minor": 2
}

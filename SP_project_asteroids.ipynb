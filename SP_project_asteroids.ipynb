{
 "cells": [
  {
   "attachments": {},
   "cell_type": "markdown",
   "metadata": {},
   "source": [
    "# Scientific Programming - Project Work "
   ]
  },
  {
   "attachments": {},
   "cell_type": "markdown",
   "metadata": {},
   "source": [
    "### Asteroids - NASA"
   ]
  },
  {
   "cell_type": "code",
   "execution_count": null,
   "metadata": {},
   "outputs": [],
   "source": [
    "# Connect to NASA API\n",
    "\n",
    "import requests\n",
    "import pandas as pd\n",
    "\n",
    "# Set the API endpoint URL\n",
    "url = \"https://api.nasa.gov/neo/rest/v1/feed\"\n",
    "\n",
    "# Set the parameters for the API request\n",
    "api_key = \"your_api_key_here\"\n",
    "start_date = \"2023-04-22\"\n",
    "end_date = \"2023-04-22\"\n",
    "\n",
    "# Build the API request URL\n",
    "request_url = f\"{url}?start_date={start_date}&end_date={end_date}&api_key={api_key}\"\n",
    "\n",
    "# Send the API request and get the response\n",
    "response = requests.get(request_url)\n",
    "\n",
    "# Convert the response to JSON format\n",
    "json_data = response.json()\n",
    "\n",
    "# Extract the asteroid data from the JSON response\n",
    "asteroid_data = []\n",
    "for date in json_data[\"near_earth_objects\"]:\n",
    "    for asteroid in json_data[\"near_earth_objects\"][date]:\n",
    "        asteroid_data.append({\n",
    "            \"name\": asteroid[\"name\"],\n",
    "            \"diameter\": asteroid[\"estimated_diameter\"][\"meters\"][\"estimated_diameter_max\"],\n",
    "            \"velocity\": asteroid[\"close_approach_data\"][0][\"relative_velocity\"][\"kilometers_per_second\"],\n",
    "            \"distance\": asteroid[\"close_approach_data\"][0][\"miss_distance\"][\"kilometers\"]\n",
    "        })\n",
    "\n",
    "# Convert the asteroid data to a Pandas dataframe\n",
    "asteroid_df = pd.DataFrame(asteroid_data)\n",
    "\n",
    "# Display the dataframe\n",
    "print(asteroid_df)"
   ]
  }
 ],
 "metadata": {
  "kernelspec": {
   "display_name": "spenv",
   "language": "python",
   "name": "python3"
  },
  "language_info": {
   "codemirror_mode": {
    "name": "ipython",
    "version": 3
   },
   "file_extension": ".py",
   "mimetype": "text/x-python",
   "name": "python",
   "nbconvert_exporter": "python",
   "pygments_lexer": "ipython3",
   "version": "3.10.9"
  },
  "orig_nbformat": 4
 },
 "nbformat": 4,
 "nbformat_minor": 2
}

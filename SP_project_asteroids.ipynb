{
 "cells": [
  {
   "attachments": {},
   "cell_type": "markdown",
   "metadata": {},
   "source": [
    "# Scientific Programming - Project Work "
   ]
  },
  {
   "attachments": {},
   "cell_type": "markdown",
   "metadata": {},
   "source": [
    "### Asteroids - NASA"
   ]
  },
  {
   "cell_type": "code",
   "execution_count": 1,
   "metadata": {},
   "outputs": [
    {
     "name": "stdout",
     "output_type": "stream",
     "text": [
      "           name    diameter       velocity            distance\n",
      "0   (2000 TU28)  366.471308  15.3356012156  41541586.745959377\n",
      "1     (2003 HM)  259.441818  21.9748310242  65188931.401511058\n",
      "2     (2006 FK)  326.617897  10.1083679975  34112182.467245229\n",
      "3    (2009 CC3)  895.447192   9.5440172595  13949362.684353822\n",
      "4   (2009 HX51)  363.111479   7.8830053039  72235507.834433399\n",
      "..          ...         ...            ...                 ...\n",
      "86    (2022 HQ)   21.579430   7.0407574106   3321172.032025893\n",
      "87   (2022 HL1)   51.290860  12.8842563094   5320041.878895932\n",
      "88   (2022 HE3)   51.290860   12.903674078   4702173.833326596\n",
      "89    (2022 JT)   43.056624   4.6805394689   3247682.078388393\n",
      "90   (2022 UW4)   59.984629  12.6366912766  37318257.084527753\n",
      "\n",
      "[91 rows x 4 columns]\n"
     ]
    }
   ],
   "source": [
    "# Connect to NASA API\n",
    "\n",
    "import requests\n",
    "import pandas as pd\n",
    "\n",
    "# Set the API endpoint URL\n",
    "url = \"https://api.nasa.gov/neo/rest/v1/feed\"\n",
    "\n",
    "# Set the parameters for the API request\n",
    "api_key = \"96ycipvaBH52byeolyOAQPaaoEJCmLGZpzmWVwLG\"\n",
    "start_date = \"2022-04-22\"\n",
    "end_date = \"2022-04-26\"\n",
    "\n",
    "# Build the API request URL\n",
    "request_url = f\"{url}?start_date={start_date}&end_date={end_date}&api_key={api_key}\"\n",
    "\n",
    "# Send the API request and get the response\n",
    "response = requests.get(request_url)\n",
    "\n",
    "# Convert the response to JSON format\n",
    "json_data = response.json()\n",
    "\n",
    "# Extract the asteroid data from the JSON response\n",
    "asteroid_data = []\n",
    "for date in json_data[\"near_earth_objects\"]:\n",
    "    for asteroid in json_data[\"near_earth_objects\"][date]:\n",
    "        asteroid_data.append({\n",
    "            \"name\": asteroid[\"name\"],\n",
    "            \"diameter\": asteroid[\"estimated_diameter\"][\"meters\"][\"estimated_diameter_max\"],\n",
    "            \"velocity\": asteroid[\"close_approach_data\"][0][\"relative_velocity\"][\"kilometers_per_second\"],\n",
    "            \"distance\": asteroid[\"close_approach_data\"][0][\"miss_distance\"][\"kilometers\"]\n",
    "        })\n",
    "\n",
    "# Convert the asteroid data to a Pandas dataframe\n",
    "asteroid_df = pd.DataFrame(asteroid_data)\n",
    "\n",
    "# Display the dataframe\n",
    "print(asteroid_df)"
   ]
  },
  {
   "cell_type": "code",
   "execution_count": 2,
   "metadata": {},
   "outputs": [
    {
     "data": {
      "text/plain": [
       "name         object\n",
       "diameter    float64\n",
       "velocity     object\n",
       "distance     object\n",
       "dtype: object"
      ]
     },
     "execution_count": 2,
     "metadata": {},
     "output_type": "execute_result"
    }
   ],
   "source": [
    "# what data types are in the dataframe?\n",
    "asteroid_df.dtypes"
   ]
  },
  {
   "cell_type": "code",
   "execution_count": 3,
   "metadata": {},
   "outputs": [],
   "source": [
    "# Convert the diameter, velocity, and distance columns to numeric data types\n",
    "asteroid_df[\"diameter\"] = pd.to_numeric(asteroid_df[\"diameter\"])\n",
    "asteroid_df[\"velocity\"] = pd.to_numeric(asteroid_df[\"velocity\"])\n",
    "asteroid_df[\"distance\"] = pd.to_numeric(asteroid_df[\"distance\"])\n",
    "\n"
   ]
  },
  {
   "cell_type": "code",
   "execution_count": 4,
   "metadata": {},
   "outputs": [],
   "source": [
    "# convert name to string\n",
    "asteroid_df[\"name\"] = asteroid_df[\"name\"].astype(str)"
   ]
  },
  {
   "cell_type": "code",
   "execution_count": 5,
   "metadata": {},
   "outputs": [
    {
     "name": "stdout",
     "output_type": "stream",
     "text": [
      "         name      distance\n",
      "0  (2022 HB1)  2.006649e+05\n",
      "1  (2022 HB2)  8.317558e+05\n",
      "2   (2022 HD)  1.417645e+06\n",
      "3  (2022 HS1)  1.674893e+06\n",
      "4  (2022 HK1)  1.677603e+06\n"
     ]
    }
   ],
   "source": [
    "# find the five closest asteroid to Earth\n",
    "closest_asteroids = asteroid_df.sort_values(\"distance\").head(5)\n",
    "\n",
    "# display the five closest asteroids in the right order\n",
    "print(closest_asteroids[[\"name\", \"distance\"]].reset_index(drop=True))"
   ]
  },
  {
   "cell_type": "code",
   "execution_count": 6,
   "metadata": {},
   "outputs": [
    {
     "name": "stdout",
     "output_type": "stream",
     "text": [
      "                           name      diameter       velocity  \\\n",
      "0            433 Eros (A898 PA)  51527.607590   5.5786191875   \n",
      "1          719 Albert (A911 TB)   4529.392731   3.4460290151   \n",
      "2          887 Alinda (A918 AA)  10186.851583   6.8047854867   \n",
      "3        1036 Ganymed (A924 UB)  85514.542927   6.3038665252   \n",
      "4          1221 Amor (1932 EA1)   1986.277755  13.2693807828   \n",
      "5         1566 Icarus (1949 MA)   2978.790628  27.0081177082   \n",
      "6        1580 Betulia (1950 KA)   6855.513317  28.6869570374   \n",
      "7     1620 Geographos (1951 RA)   5129.085974  11.7628248286   \n",
      "8           1627 Ivar (1929 SH)  16750.970692   8.3835333947   \n",
      "9           1685 Toro (1948 OA)   8166.575449   17.009119587   \n",
      "10        1862 Apollo (1932 HA)   3564.839479  12.3118801079   \n",
      "11      1863 Antinous (1948 EA)   4853.331752   18.079538445   \n",
      "12      1864 Daedalus (1971 FA)   6607.542706  22.5061429999   \n",
      "13      1865 Cerberus (1971 UA)   2594.418179  15.3277207205   \n",
      "14      1866 Sisyphus (1972 XA)  19321.461716  33.8145974556   \n",
      "15  1915 Quetzalcoatl (1953 EA)   1458.948557  15.1210055876   \n",
      "16        1916 Boreas (1953 RA)   6081.909854   6.9573979085   \n",
      "17          1917 Cuyo (1968 AA)   8017.518649  18.3975508673   \n",
      "18       1943 Anteros (1973 EC)   4325.536477  13.2592612669   \n",
      "19  1980 Tezcatlipoca (1950 LA)  10376.239294  12.9006028883   \n",
      "\n",
      "               distance  is_sentry_object orbiting_body  \n",
      "0    47112732.928149391             False         Earth  \n",
      "1   255628975.888701521             False         Juptr  \n",
      "2    47952475.902705628             False         Earth  \n",
      "3   292651849.435750484             False         Juptr  \n",
      "4    42642716.229489897             False         Earth  \n",
      "5    12638349.588301991             False         Earth  \n",
      "6    72648656.685149564             False         Earth  \n",
      "7     5071233.828107415             False         Earth  \n",
      "8    36882658.051541114             False         Earth  \n",
      "9    29959355.903338472             False         Earth  \n",
      "10   39948118.644590109             False         Earth  \n",
      "11   13378898.777996263             False          Mars  \n",
      "12   44377151.869819291             False         Earth  \n",
      "13   49946435.648286527             False         Earth  \n",
      "14   67489041.886545488             False         Earth  \n",
      "15    3789779.281515913             False         Earth  \n",
      "16   58321484.969065204             False         Earth  \n",
      "17   67287129.656366275             False         Earth  \n",
      "18   61714247.465693846             False         Earth  \n",
      "19   71658711.839193202             False         Earth  \n"
     ]
    }
   ],
   "source": [
    "# Set the API endpoint URL\n",
    "url2 = \"https://api.nasa.gov/neo/rest/v1/neo/browse/\"\n",
    "\n",
    "# Set the parameters for the API request\n",
    "api_key = \"96ycipvaBH52byeolyOAQPaaoEJCmLGZpzmWVwLG\"\n",
    "\n",
    "# Build the API request URL\n",
    "request_url2 = f\"{url2}?api_key={api_key}\"\n",
    "\n",
    "# Send the API request and get the response\n",
    "response2 = requests.get(request_url2)\n",
    "\n",
    "# Convert the response to JSON format\n",
    "json_data2 = response2.json()\n",
    "\n",
    "# Extract the asteroid data from the JSON response\n",
    "asteroid_data2 = []\n",
    "\n",
    "for asteroid in json_data2[\"near_earth_objects\"]:\n",
    "    asteroid_data2.append({\n",
    "        \"name\": asteroid[\"name\"],\n",
    "        \"diameter\": asteroid[\"estimated_diameter\"][\"meters\"][\"estimated_diameter_max\"],\n",
    "        \"velocity\": asteroid[\"close_approach_data\"][0][\"relative_velocity\"][\"kilometers_per_second\"],\n",
    "        \"distance\": asteroid[\"close_approach_data\"][0][\"miss_distance\"][\"kilometers\"],\n",
    "        \"is_sentry_object\": asteroid[\"is_sentry_object\"],\n",
    "        \"orbiting_body\": asteroid[\"close_approach_data\"][0][\"orbiting_body\"]\n",
    "    })\n",
    "\n",
    "# Convert the asteroid data to a Pandas dataframe\n",
    "asteroid_df2 = pd.DataFrame(asteroid_data2)\n",
    "\n",
    "# Display the dataframe\n",
    "print(asteroid_df2)\n"
   ]
  },
  {
   "attachments": {},
   "cell_type": "markdown",
   "metadata": {},
   "source": [
    "### Jupyter notebook --footer info--"
   ]
  },
  {
   "cell_type": "code",
   "execution_count": 8,
   "metadata": {},
   "outputs": [
    {
     "name": "stdout",
     "output_type": "stream",
     "text": [
      "-----------------------------------\n",
      "NT\n",
      "Windows | 10\n",
      "Datetime: 2023-05-07 12:54:30\n",
      "Python Version: 3.10.9\n",
      "-----------------------------------\n"
     ]
    }
   ],
   "source": [
    "import os\n",
    "import platform\n",
    "import socket\n",
    "from platform import python_version\n",
    "from datetime import datetime\n",
    "\n",
    "print('-----------------------------------')\n",
    "print(os.name.upper())\n",
    "print(platform.system(), '|', platform.release())\n",
    "print('Datetime:', datetime.now().strftime(\"%Y-%m-%d %H:%M:%S\"))\n",
    "print('Python Version:', python_version())\n",
    "print('-----------------------------------')"
   ]
  }
 ],
 "metadata": {
  "kernelspec": {
   "display_name": "spenv",
   "language": "python",
   "name": "python3"
  },
  "language_info": {
   "codemirror_mode": {
    "name": "ipython",
    "version": 3
   },
   "file_extension": ".py",
   "mimetype": "text/x-python",
   "name": "python",
   "nbconvert_exporter": "python",
   "pygments_lexer": "ipython3",
   "version": "3.10.9"
  },
  "orig_nbformat": 4
 },
 "nbformat": 4,
 "nbformat_minor": 2
}
